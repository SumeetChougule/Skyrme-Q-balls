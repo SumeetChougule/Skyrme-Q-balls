{
 "cells": [
  {
   "cell_type": "markdown",
   "id": "fd23d26f-2fdb-4c44-b2cb-d05aa6cd45ce",
   "metadata": {},
   "source": [
    "# Gauged Q-ball"
   ]
  },
  {
   "cell_type": "code",
   "execution_count": 1,
   "id": "e3876277-ae28-42a8-aef5-3ea26ca06740",
   "metadata": {},
   "outputs": [],
   "source": [
    "import numpy as np\n",
    "import scipy as sp\n",
    "from scipy.integrate import solve_ivp\n",
    "from scipy.integrate import ode\n",
    "from scipy.optimize import minimize\n",
    "import sympy as sy\n",
    "import matplotlib.pyplot as plt\n",
    "from scipy.integrate import odeint\n",
    "from scipy.integrate import quad\n",
    "from numpy import loadtxt\n",
    "from pylab import figure, plot, xlabel, grid, legend, title, savefig\n",
    "from matplotlib.font_manager import FontProperties\n",
    "from scipy.integrate import cumulative_trapezoid\n",
    "from IPython.display import display\n",
    "from pylab import *"
   ]
  },
  {
   "cell_type": "code",
   "execution_count": 70,
   "id": "661a762c-f92b-4189-b6e9-695b5a553741",
   "metadata": {},
   "outputs": [],
   "source": [
    "def vectorfield(r, funs):\n",
    "    \"\"\"\n",
    "    Defines the differential equations for the coupled system.\n",
    "\n",
    "    Arguments:\n",
    "        w :  vector of the state variables:\n",
    "                  w = [α,x,g,y]\n",
    "        r :  time\n",
    "        p :  vector of the parameters:\n",
    "                  p = [l, w, m, K]\n",
    "    \"\"\"\n",
    "    α, x, g, yy = funs\n",
    "    l, w, M  = p\n",
    "\n",
    "    # Create f = (x1',y1',x2',y2'):\n",
    "#    f = [x,\n",
    "         #-x*(2*r/(r**2+1e-12))+((1-l*(g**2)*np.sin(α)**2))/((1-l*(g**2)*np.sin(α)**2)**2+1e-12)*(2*x*y*l*g*np.sin(α)**2-(1/2)*(g**2)*(np.sin(2*α)**2)*(1-l*x**2)+(4*(M**2))*np.sin(α)),\n",
    "         #y,\n",
    "         #-y*(2*r/(r**2+1e-12))+ (0.13468/l)*g*np.sin(α)**2*(1+l*x**2)]\n",
    "    f = [x,\n",
    "         -x*(2*r/(r**2+1e-12))+(1/(1-l*(g**2)*np.sin(α)**2))*(2*x*yy*l*g*np.sin(α)**2-(1/2)*(g**2)*(np.sin(2*α))*(1-l*x**2)+(4*(M**2))*np.sin(α)),\n",
    "         yy,\n",
    "         -yy*(2*r/(r**2+1e-12)) + (0.13468/l)*g*np.sin(α)**2*(1+l*x**2)]       \n",
    "    return f"
   ]
  },
  {
   "cell_type": "markdown",
   "id": "f930c28a-f765-4c2e-8d79-5a95f353d0be",
   "metadata": {},
   "source": [
    "$\\alpha' = x \\\\\n",
    "x' = -\\frac{2}{r}x+ \\frac{1}{(1-\\lambda g^{2} \\sin^{2} \\alpha)} \\left[ 2\\lambda g x y \\sin^{2}\\alpha  -\\frac{g^{2}}{2}\\sin 2\\alpha (1-\\lambda x^{2}) +4 m^{2} \\sin \\alpha \\right]\\\\\n",
    "g'=y\\\\\n",
    "y'= -\\frac{2}{r}y+ 4K g \\sin^{2}\\alpha (1+\\lambda x^{2}) $"
   ]
  },
  {
   "cell_type": "code",
   "execution_count": 170,
   "id": "7298b6c7-0c55-482e-bcbe-153d70326180",
   "metadata": {},
   "outputs": [],
   "source": [
    "#constants\n",
    "l = 0.00073\n",
    "w = 0.0\n",
    "M = 60\n",
    "\n",
    "# Initial conditions\n",
    "α = 1\n",
    "x = 0\n",
    "g = .3\n",
    "yy = 0\n",
    "\n",
    "# ODE solver parameters\n",
    "abserr = 1.0e-8\n",
    "relerr = 1.0e-6\n",
    "stoptime = 10.0\n",
    "numpoints = 250\n",
    "\n"
   ]
  },
  {
   "cell_type": "code",
   "execution_count": 171,
   "id": "147b9796-fd4d-439c-a88a-882a8e1727ed",
   "metadata": {
    "tags": []
   },
   "outputs": [
    {
     "data": {
      "image/png": "[encoded data removed]",
      "text/plain": [
       "<Figure size 432x288 with 1 Axes>"
      ]
     },
     "metadata": {
      "needs_background": "light"
     },
     "output_type": "display_data"
    }
   ],
   "source": [
    "\n",
    "#r = np.linspace(0, 100, 2)\n",
    "\n",
    "# Pack up the parameters and initial conditions:\n",
    "p = [l, w, M]\n",
    "w0 = α, x, g, yy\n",
    "\n",
    "# Call the ODE solver.\n",
    "#wsol, inf0 = odeint(vectorfield, w0, r, args=(p,), full_output = 1, atol=abserr, rtol=relerr,)\n",
    "#wsol=ode(vectorfield,).set_integrator('vode',nsteps=100,method='bdf')\n",
    "#wsol.set_initial_value(w0, r= 0)\n",
    "\n",
    "#sol = solve_ivp(vectorfield, t_span=(0.0,max(r)), y0=w0, method='BDF', t_eval = r, rtol=1e-7,atol=1e-7)\n",
    "t0, tf = 0, 100\n",
    "r = (t0, tf)\n",
    "soln = solve_ivp(vectorfield, r, y0=w0, method='BDF')  \n",
    "    \n",
    "#st=ode(vectorfield,jac=None).set_integrator('vode',method='bdf')    \n",
    "#st.set_f_params(p)\n",
    "#st.set_initial_value(w0)    \n",
    "#y1_sol = wsol.T[0]\n",
    "#y2_sol = wsol.T[2]\n",
    "\n",
    "plt.plot(soln.t, soln.y[0], label = 'α')\n",
    "#plt.plot(r, y2_sol, label = 'g')\n",
    "#plt.xlim([.0, .03])\n",
    "#plt.ylim([-0, 2.0])\n",
    "plt.xlabel('$r$', fontsize=22)\n",
    "plt.legend(loc='best')\n",
    "plt.show()"
   ]
  },
  {
   "cell_type": "code",
   "execution_count": 172,
   "id": "7f20c138-9b39-4aaf-8e35-46f4282734fa",
   "metadata": {},
   "outputs": [
    {
     "data": {
      "image/png": "[encoded data removed]",
      "text/plain": [
       "<Figure size 432x288 with 1 Axes>"
      ]
     },
     "metadata": {
      "needs_background": "light"
     },
     "output_type": "display_data"
    }
   ],
   "source": [
    "#y3_sol = wsol.T[1]\n",
    "#y4_sol = wsol.T[3]\n",
    "\n",
    "#plt.plot(r, y3_sol, label = 'α')\n",
    "plt.plot(soln.t, soln.y[2], label = 'g')\n",
    "#plt.xlim([.0, 5])\n",
    "#plt.xlabel('$r$', fontsize=22)\n",
    "plt.legend()\n",
    "plt.show()"
   ]
  },
  {
   "cell_type": "code",
   "execution_count": 173,
   "id": "e55dbe75-f5c7-4c3e-b1d4-735768909a56",
   "metadata": {},
   "outputs": [
    {
     "data": {
      "image/png": "[encoded data removed]",
      "text/plain": [
       "<Figure size 432x288 with 1 Axes>"
      ]
     },
     "metadata": {
      "needs_background": "light"
     },
     "output_type": "display_data"
    }
   ],
   "source": [
    "plt.plot(soln.t, soln.y[0], label = 'α')\n",
    "plt.plot(soln.t, soln.y[2], label = 'g')\n",
    "#plt.xlim([.0, 0.001])\n",
    "#plt.ylim([-0.001, .0020])\n",
    "plt.xlabel('$r$', fontsize=22)\n",
    "plt.legend(loc='best')\n",
    "plt.show()"
   ]
  },
  {
   "cell_type": "code",
   "execution_count": 174,
   "id": "514e071e-3578-40ce-96b3-315168340e7b",
   "metadata": {},
   "outputs": [
    {
     "data": {
      "image/png": "[encoded data removed]",
      "text/plain": [
       "<Figure size 432x288 with 1 Axes>"
      ]
     },
     "metadata": {
      "needs_background": "light"
     },
     "output_type": "display_data"
    }
   ],
   "source": [
    "plt.plot(soln.t, soln.y[1], label = 'dα')\n",
    "plt.plot(soln.t, soln.y[3], label = 'dg')\n",
    "#plt.xlim([.0, 0.001])\n",
    "#plt.ylim([0.5, -.150])\n",
    "plt.xlabel('$r$', fontsize=22)\n",
    "plt.legend(loc='best')\n",
    "plt.show()"
   ]
  },
  {
   "cell_type": "markdown",
   "id": "6373fc53-a410-4839-bee3-c44ecb61643f",
   "metadata": {},
   "source": [
    "## Energy "
   ]
  },
  {
   "cell_type": "markdown",
   "id": "5a22a1b6-b8a2-4ba5-9a5b-2cbeba3b6be1",
   "metadata": {},
   "source": [
    "$E_{g}= 4\\pi K \\int dr \\, r^{2}   \\left[  g^{2} \\sin^{2} \\alpha \\left( 1+  \\lambda \\left(\\alpha'\\right)^{2} \\right) +  \\left(\\alpha'\\right)^{2} - 8m^{2}\\left(\\cos \\alpha-1 \\right) + \\frac{1}{4K} \\left(g'\\right)^{2} \\right]$"
   ]
  },
  {
   "cell_type": "code",
   "execution_count": 175,
   "id": "273a2d7b-b6ae-4264-91e2-f42130842ea1",
   "metadata": {},
   "outputs": [],
   "source": [
    "αn  = soln.y[0] \n",
    "dαn = soln.y[1] \n",
    "gn  = soln.y[2]\n",
    "dgn = soln.y[3]\n",
    "rn  = soln.t"
   ]
  },
  {
   "cell_type": "code",
   "execution_count": 183,
   "id": "dabc8a24-06b3-45f7-93cd-04d5c66768fd",
   "metadata": {},
   "outputs": [
    {
     "data": {
      "text/plain": [
       "Text(0.5, 1.0, 'Energy density')"
      ]
     },
     "execution_count": 183,
     "metadata": {},
     "output_type": "execute_result"
    },
    {
     "data": {
      "image/png": "[encoded data removed]",
      "text/plain": [
       "<Figure size 432x288 with 1 Axes>"
      ]
     },
     "metadata": {
      "needs_background": "light"
     },
     "output_type": "display_data"
    }
   ],
   "source": [
    "e = (0.4231/l)*((gn**2)*(np.sin(αn)**2)*(1+l*dαn**2)+dαn**2 - 8*(M**2)*(np.cos(αn)-1)+7.425*l*(dgn)**2  )\n",
    "plt.plot(rn, e)\n",
    "plt.xlabel('$r$', fontsize=22)\n",
    "plt.title('Energy density')"
   ]
  },
  {
   "cell_type": "code",
   "execution_count": 184,
   "id": "427d5c61-d8e6-4961-bba3-4a7450133795",
   "metadata": {
    "tags": []
   },
   "outputs": [
    {
     "data": {
      "text/plain": [
       "Text(0.5, 1.0, 'Energy')"
      ]
     },
     "execution_count": 184,
     "metadata": {},
     "output_type": "execute_result"
    },
    {
     "data": {
      "image/png": "[encoded data removed]",
      "text/plain": [
       "<Figure size 432x288 with 1 Axes>"
      ]
     },
     "metadata": {
      "needs_background": "light"
     },
     "output_type": "display_data"
    }
   ],
   "source": [
    "Eg = (rn**2)*e\n",
    "Int=cumulative_trapezoid(Eg,soln.t, initial=0)\n",
    "plt.plot(rn, Int)\n",
    "plt.xlabel('$r$', fontsize=22)\n",
    "plt.title('Energy')"
   ]
  },
  {
   "cell_type": "markdown",
   "id": "4d27c944-4ef7-402e-b34a-e6fa5cd213e5",
   "metadata": {},
   "source": [
    "## Charge"
   ]
  },
  {
   "cell_type": "markdown",
   "id": "fed8fb5f-895d-4fd9-8a06-82ab82dc03ea",
   "metadata": {},
   "source": [
    "$\\mathcal{Q}_{g}= 8 \\pi K \\int dr\\, r^{2} \\, g\\sin^{2}\\alpha \\left(1+\\lambda (\\alpha')^{2}\\right)  \n",
    "$"
   ]
  },
  {
   "cell_type": "code",
   "execution_count": 178,
   "id": "a7d707ed-e2b1-4c8c-ad21-9ea19b217f32",
   "metadata": {},
   "outputs": [],
   "source": [
    "qg = 2*(0.4231/l)*gn*(np.sin(αn)**2)*(1+l*dαn**2)"
   ]
  },
  {
   "cell_type": "code",
   "execution_count": 185,
   "id": "1a7dfa4f-bf89-4049-99d0-717aaf32c610",
   "metadata": {},
   "outputs": [
    {
     "data": {
      "text/plain": [
       "Text(0.5, 1.0, 'Charge density')"
      ]
     },
     "execution_count": 185,
     "metadata": {},
     "output_type": "execute_result"
    },
    {
     "data": {
      "image/png": "[encoded data removed]",
      "text/plain": [
       "<Figure size 432x288 with 1 Axes>"
      ]
     },
     "metadata": {
      "needs_background": "light"
     },
     "output_type": "display_data"
    }
   ],
   "source": [
    "plt.plot(rn, qg)\n",
    "plt.xlabel('$r$', fontsize=22)\n",
    "plt.title('Charge density')"
   ]
  },
  {
   "cell_type": "code",
   "execution_count": 186,
   "id": "60f52a45-8842-4cba-9983-f03d38277898",
   "metadata": {},
   "outputs": [
    {
     "data": {
      "text/plain": [
       "Text(0.5, 1.0, 'Charge')"
      ]
     },
     "execution_count": 186,
     "metadata": {},
     "output_type": "execute_result"
    },
    {
     "data": {
      "image/png": "[encoded data removed]",
      "text/plain": [
       "<Figure size 432x288 with 1 Axes>"
      ]
     },
     "metadata": {
      "needs_background": "light"
     },
     "output_type": "display_data"
    }
   ],
   "source": [
    "Q =  rn**2*qg\n",
    "QInt=cumulative_trapezoid(Q,soln.t, initial=0)\n",
    "plt.plot(rn, QInt)\n",
    "plt.xlabel('$r$', fontsize=22)\n",
    "plt.title('Charge')"
   ]
  },
  {
   "cell_type": "code",
   "execution_count": 187,
   "id": "976f1009-0004-4ade-8a93-dd693b8cc408",
   "metadata": {},
   "outputs": [
    {
     "data": {
      "text/plain": [
       "Text(0.5, 1.0, 'Charge vs. Energy')"
      ]
     },
     "execution_count": 187,
     "metadata": {},
     "output_type": "execute_result"
    },
    {
     "data": {
      "image/png": "[encoded data removed]",
      "text/plain": [
       "<Figure size 432x288 with 1 Axes>"
      ]
     },
     "metadata": {
      "needs_background": "light"
     },
     "output_type": "display_data"
    }
   ],
   "source": [
    "plt.plot(QInt, Int)\n",
    "plt.xlabel('Q_g', fontsize=22)\n",
    "plt.ylabel('$E_g$', fontsize=22)\n",
    "plt.title('Charge vs. Energy')"
   ]
  },
  {
   "cell_type": "code",
   "execution_count": null,
   "id": "18f71b92-0c41-4a1e-905e-ccbb59829a00",
   "metadata": {},
   "outputs": [],
   "source": []
  },
  {
   "cell_type": "code",
   "execution_count": null,
   "id": "776b200a-6ec4-453f-b022-028e24055c97",
   "metadata": {},
   "outputs": [],
   "source": []
  }
 ],
 "metadata": {
  "kernelspec": {
   "display_name": "Python 3 (ipykernel)",
   "language": "python",
   "name": "python3"
  },
  "language_info": {
   "codemirror_mode": {
    "name": "ipython",
    "version": 3
   },
   "file_extension": ".py",
   "mimetype": "text/x-python",
   "name": "python",
   "nbconvert_exporter": "python",
   "pygments_lexer": "ipython3",
   "version": "3.9.7"
  }
 },
 "nbformat": 4,
 "nbformat_minor": 5
}
